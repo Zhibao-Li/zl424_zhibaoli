{
 "cells": [
  {
   "cell_type": "code",
   "execution_count": 1,
   "metadata": {},
   "outputs": [],
   "source": [
    "import pandas as pd\n",
    "import altair as alt\n",
    "import numpy as np"
   ]
  },
  {
   "cell_type": "code",
   "execution_count": 72,
   "metadata": {},
   "outputs": [],
   "source": [
    "df2=pd.read_csv(\"df2.csv\")"
   ]
  },
  {
   "cell_type": "code",
   "execution_count": 123,
   "metadata": {},
   "outputs": [
    {
     "name": "stderr",
     "output_type": "stream",
     "text": [
      "/Users/bruce/opt/miniconda3/envs/spyder-env-y/lib/python3.9/site-packages/pandas/core/generic.py:5516: SettingWithCopyWarning: \n",
      "A value is trying to be set on a copy of a slice from a DataFrame.\n",
      "Try using .loc[row_indexer,col_indexer] = value instead\n",
      "\n",
      "See the caveats in the documentation: https://pandas.pydata.org/pandas-docs/stable/user_guide/indexing.html#returning-a-view-versus-a-copy\n",
      "  self[name] = value\n"
     ]
    }
   ],
   "source": [
    "df3=df2[[\"subaward_action_date\",\"top_subawardee_name\",\"subaward_amount\"]]\n",
    "df3.subaward_action_date=df3.subaward_action_date.str[0:4]\n",
    "df4= df3.groupby(by=['subaward_action_date',\"top_subawardee_name\"],as_index=False).\\\n",
    "        agg({'subaward_amount':\"sum\"}).\\\n",
    "    sort_values(by='subaward_action_date',ascending=False).\\\n",
    "    reset_index().\\\n",
    "    drop(\"index\",axis=1)\n",
    "df4.to_csv('df4.csv',index=False)"
   ]
  },
  {
   "cell_type": "code",
   "execution_count": 124,
   "metadata": {},
   "outputs": [],
   "source": [
    "source = df2\n",
    "brush = alt.selection_interval(encodings=[\"x\"])\n",
    "click = alt.selection_multi(fields=[\"top_subawardee_name\"])\n",
    "\n",
    "scale=alt.Scale(domain=[\"Alliant Techsystems Operations\",\"Orbital Sciences\", \n",
    "    \"Ensign-Bickford Aerospace & Defense Company\",\n",
    "    \"Pacific Scientific Energetic Materials Company (California)\", \n",
    "    \"Aerojet Rocketdyne\",\"Ducommun Labarge Technologies\",\n",
    "    \"Tri Models\",\"Others\"],range=[\"#e60049\", \"#0bb4ff\", \"#50e991\", \"#e6d800\", \"#9b19f5\", \"#ffa300\", \"#dc0ab4\", \"#999999\"])\n",
    "\n",
    "color=alt.Color(\"top_subawardee_name:N\",title=\"Main Subcontractors\", scale=scale) \n",
    "\n",
    "scatter= alt.Chart(source).mark_point().encode(\n",
    "    x=alt.X('subaward_action_date:T',title=\"Date\", axis=alt.Axis(labelAngle=320,grid=False)),\n",
    "    y=alt.Y('subaward_amount:Q',title=\"Subcontract Amounts\",axis=alt.Axis(grid=False, titlePadding=20)),\n",
    "    color=alt.condition(brush,color,alt.value('lightgray')),\n",
    ").properties(\n",
    "    width=650,\n",
    "    height=300\n",
    ").add_selection(brush).transform_filter(click)\n",
    "\n",
    "bar = alt.Chart(source).mark_bar(\n",
    "    cornerRadiusTopLeft=3,\n",
    "    cornerRadiusTopRight=3\n",
    ").encode(\n",
    "    x=alt.X('sum(subaward_amount):Q',title=\"Subcontract Amounts\",axis=alt.Axis(grid=False)),\n",
    "    y=alt.Y(\"top_subawardee_name:N\",title=\"Main Subcontractors\", axis=alt.Axis(grid=False, titlePadding=220)),\n",
    "    color=alt.condition(click,color,alt.value(\"lightgray\"))\n",
    ").properties(\n",
    "    width=650,\n",
    "    height=300\n",
    "    # title=\"Sentiment results of Top20 stocks mentioned in Reddit (r/stocks)\"\n",
    ").add_selection(click).transform_filter(brush)\n",
    "\n",
    "alt.vconcat(scatter, bar). \\\n",
    "    configure(font=\"Georgia\").\\\n",
    "    configure_legend(titleColor='black', labelFontSize=17, titleFontSize=17,labelLimit=1000). \\\n",
    "    configure_axis(labelFontSize=15,titleFontSize=17,labelLimit=1000).\\\n",
    "    save('time2.html')\n",
    "\n",
    "\n"
   ]
  },
  {
   "cell_type": "code",
   "execution_count": null,
   "metadata": {},
   "outputs": [],
   "source": []
  }
 ],
 "metadata": {
  "interpreter": {
   "hash": "7f03fb33cde30b1e0ff05e494356ca73819bb92d735d3d5a426c7539b071b763"
  },
  "kernelspec": {
   "display_name": "Python 3.9.7 ('spyder-env-y')",
   "language": "python",
   "name": "python3"
  },
  "language_info": {
   "codemirror_mode": {
    "name": "ipython",
    "version": 3
   },
   "file_extension": ".py",
   "mimetype": "text/x-python",
   "name": "python",
   "nbconvert_exporter": "python",
   "pygments_lexer": "ipython3",
   "version": "3.9.7"
  },
  "orig_nbformat": 4
 },
 "nbformat": 4,
 "nbformat_minor": 2
}
